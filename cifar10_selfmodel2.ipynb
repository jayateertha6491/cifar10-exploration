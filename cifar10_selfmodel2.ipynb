{
 "cells": [
  {
   "cell_type": "code",
   "execution_count": 19,
   "metadata": {},
   "outputs": [],
   "source": [
    "##importing the necessary modules and libraries\n",
    "import keras\n",
    "from keras.datasets import cifar10\n",
    "from keras.preprocessing.image import ImageDataGenerator\n",
    "from keras.models import Sequential\n",
    "from keras.layers import Dense, Conv2D, MaxPooling2D, Flatten,Activation, Dropout\n",
    "import os\n",
    "import numpy as np"
   ]
  },
  {
   "cell_type": "code",
   "execution_count": 2,
   "metadata": {},
   "outputs": [],
   "source": [
    "#loading the cifar10 data from keras datasets modeule\n",
    "(x_train, y_train), (x_test, y_test)=cifar10.load_data()"
   ]
  },
  {
   "cell_type": "code",
   "execution_count": 3,
   "metadata": {},
   "outputs": [
    {
     "name": "stdout",
     "output_type": "stream",
     "text": [
      "(50000, 32, 32, 3)\n",
      "(10000, 32, 32, 3)\n",
      "(50000, 1)\n",
      "(10000, 1)\n"
     ]
    }
   ],
   "source": [
    "#checking the shape of the dataset in train and test \n",
    "print(x_train.shape)\n",
    "print(x_test.shape)\n",
    "print(y_train.shape)\n",
    "print(y_test.shape)"
   ]
  },
  {
   "cell_type": "code",
   "execution_count": 4,
   "metadata": {},
   "outputs": [],
   "source": [
    "##there are 50000 train data points and 10k test data points. each image is of shape 32X32X3. "
   ]
  },
  {
   "cell_type": "code",
   "execution_count": 15,
   "metadata": {},
   "outputs": [
    {
     "name": "stdout",
     "output_type": "stream",
     "text": [
      "10\n"
     ]
    }
   ],
   "source": [
    "#to find the number of classes in the data. \n",
    "num_classes = len(np.unique(y_train))\n",
    "print(num_classes)\n",
    "##there are 10 unique classes in the cifar 10 data"
   ]
  },
  {
   "cell_type": "code",
   "execution_count": 16,
   "metadata": {},
   "outputs": [],
   "source": [
    "#convert the target variable to categorical using keras utils\n",
    "y_train = keras.utils.to_categorical(y_train, 10 )\n",
    "y_test = keras.utils.to_categorical(y_test,10)"
   ]
  },
  {
   "cell_type": "code",
   "execution_count": 18,
   "metadata": {},
   "outputs": [
    {
     "data": {
      "text/plain": [
       "array([[0., 0., 0., ..., 0., 0., 0.],\n",
       "       [0., 0., 0., ..., 0., 0., 1.],\n",
       "       [0., 0., 0., ..., 0., 0., 1.],\n",
       "       ...,\n",
       "       [0., 0., 0., ..., 0., 0., 1.],\n",
       "       [0., 1., 0., ..., 0., 0., 0.],\n",
       "       [0., 1., 0., ..., 0., 0., 0.]], dtype=float32)"
      ]
     },
     "execution_count": 18,
     "metadata": {},
     "output_type": "execute_result"
    }
   ],
   "source": [
    "y_train\n",
    "#the target is converted to categorical/one hot encoded"
   ]
  },
  {
   "cell_type": "code",
   "execution_count": 24,
   "metadata": {},
   "outputs": [],
   "source": [
    "##the train and test data are normalised by dividing it by 255 (highest value).\n",
    "x_train = x_train.astype('float32')\n",
    "x_test = x_test.astype('float32')\n",
    "x_train /= 255\n",
    "x_test /= 255"
   ]
  },
  {
   "cell_type": "code",
   "execution_count": 26,
   "metadata": {
    "scrolled": true
   },
   "outputs": [
    {
     "name": "stderr",
     "output_type": "stream",
     "text": [
      "WARNING: Logging before flag parsing goes to stderr.\n",
      "W1227 11:27:52.150876 140122733987648 deprecation_wrapper.py:119] From /home/jayateertha/anaconda3/lib/python3.7/site-packages/keras/backend/tensorflow_backend.py:66: The name tf.get_default_graph is deprecated. Please use tf.compat.v1.get_default_graph instead.\n",
      "\n",
      "W1227 11:27:53.075648 140122733987648 deprecation_wrapper.py:119] From /home/jayateertha/anaconda3/lib/python3.7/site-packages/keras/backend/tensorflow_backend.py:541: The name tf.placeholder is deprecated. Please use tf.compat.v1.placeholder instead.\n",
      "\n",
      "W1227 11:27:53.488453 140122733987648 deprecation_wrapper.py:119] From /home/jayateertha/anaconda3/lib/python3.7/site-packages/keras/backend/tensorflow_backend.py:4432: The name tf.random_uniform is deprecated. Please use tf.random.uniform instead.\n",
      "\n",
      "W1227 11:27:54.201789 140122733987648 deprecation_wrapper.py:119] From /home/jayateertha/anaconda3/lib/python3.7/site-packages/keras/backend/tensorflow_backend.py:4267: The name tf.nn.max_pool is deprecated. Please use tf.nn.max_pool2d instead.\n",
      "\n",
      "W1227 11:27:54.442965 140122733987648 deprecation_wrapper.py:119] From /home/jayateertha/anaconda3/lib/python3.7/site-packages/keras/backend/tensorflow_backend.py:148: The name tf.placeholder_with_default is deprecated. Please use tf.compat.v1.placeholder_with_default instead.\n",
      "\n",
      "W1227 11:27:54.625322 140122733987648 deprecation.py:506] From /home/jayateertha/anaconda3/lib/python3.7/site-packages/keras/backend/tensorflow_backend.py:3733: calling dropout (from tensorflow.python.ops.nn_ops) with keep_prob is deprecated and will be removed in a future version.\n",
      "Instructions for updating:\n",
      "Please use `rate` instead of `keep_prob`. Rate should be set to `rate = 1 - keep_prob`.\n",
      "W1227 11:27:55.003425 140122733987648 deprecation_wrapper.py:119] From /home/jayateertha/anaconda3/lib/python3.7/site-packages/keras/optimizers.py:793: The name tf.train.Optimizer is deprecated. Please use tf.compat.v1.train.Optimizer instead.\n",
      "\n",
      "W1227 11:27:55.076130 140122733987648 deprecation_wrapper.py:119] From /home/jayateertha/anaconda3/lib/python3.7/site-packages/keras/backend/tensorflow_backend.py:3576: The name tf.log is deprecated. Please use tf.math.log instead.\n",
      "\n"
     ]
    }
   ],
   "source": [
    "model = Sequential()\n",
    "\n",
    "model.add(Conv2D(32,(3,3),padding='same',input_shape=x_train.shape[1:]))\n",
    "model.add(Activation('relu'))\n",
    "model.add(Conv2D(32,(3,3)))\n",
    "model.add(Activation('relu'))\n",
    "model.add(MaxPool2D())\n",
    "\n",
    "model.add(Conv2D(64,(3,3),padding='same',input_shape=x_train.shape[1:]))\n",
    "model.add(Activation('relu'))\n",
    "model.add(Conv2D(64,(3,3)))\n",
    "model.add(Activation('relu'))\n",
    "model.add(MaxPool2D())\n",
    "\n",
    "model.add(Conv2D(128,(3,3),padding='same',input_shape=x_train.shape[1:]))\n",
    "model.add(Activation('relu'))\n",
    "model.add(Conv2D(128,(3,3)))\n",
    "model.add(Activation('relu'))\n",
    "model.add(MaxPool2D())\n",
    "\n",
    "\n",
    "\n",
    "model.add(Dropout(0.5))\n",
    "\n",
    "model.add(Flatten())\n",
    "model.add(Dense(512))\n",
    "model.add(Activation('relu'))\n",
    "model.add(Dense(10))\n",
    "model.add(Activation('softmax'))\n",
    "\n",
    "model.compile(loss='categorical_crossentropy',optimizer='adam',metrics=['accuracy'])"
   ]
  },
  {
   "cell_type": "code",
   "execution_count": 27,
   "metadata": {},
   "outputs": [
    {
     "name": "stdout",
     "output_type": "stream",
     "text": [
      "Model: \"sequential_1\"\n",
      "_________________________________________________________________\n",
      "Layer (type)                 Output Shape              Param #   \n",
      "=================================================================\n",
      "conv2d_1 (Conv2D)            (None, 32, 32, 32)        896       \n",
      "_________________________________________________________________\n",
      "activation_1 (Activation)    (None, 32, 32, 32)        0         \n",
      "_________________________________________________________________\n",
      "conv2d_2 (Conv2D)            (None, 30, 30, 32)        9248      \n",
      "_________________________________________________________________\n",
      "activation_2 (Activation)    (None, 30, 30, 32)        0         \n",
      "_________________________________________________________________\n",
      "max_pooling2d_1 (MaxPooling2 (None, 15, 15, 32)        0         \n",
      "_________________________________________________________________\n",
      "conv2d_3 (Conv2D)            (None, 15, 15, 64)        18496     \n",
      "_________________________________________________________________\n",
      "activation_3 (Activation)    (None, 15, 15, 64)        0         \n",
      "_________________________________________________________________\n",
      "conv2d_4 (Conv2D)            (None, 13, 13, 64)        36928     \n",
      "_________________________________________________________________\n",
      "activation_4 (Activation)    (None, 13, 13, 64)        0         \n",
      "_________________________________________________________________\n",
      "max_pooling2d_2 (MaxPooling2 (None, 6, 6, 64)          0         \n",
      "_________________________________________________________________\n",
      "conv2d_5 (Conv2D)            (None, 6, 6, 128)         73856     \n",
      "_________________________________________________________________\n",
      "activation_5 (Activation)    (None, 6, 6, 128)         0         \n",
      "_________________________________________________________________\n",
      "conv2d_6 (Conv2D)            (None, 4, 4, 128)         147584    \n",
      "_________________________________________________________________\n",
      "activation_6 (Activation)    (None, 4, 4, 128)         0         \n",
      "_________________________________________________________________\n",
      "max_pooling2d_3 (MaxPooling2 (None, 2, 2, 128)         0         \n",
      "_________________________________________________________________\n",
      "dropout_1 (Dropout)          (None, 2, 2, 128)         0         \n",
      "_________________________________________________________________\n",
      "flatten_1 (Flatten)          (None, 512)               0         \n",
      "_________________________________________________________________\n",
      "dense_1 (Dense)              (None, 512)               262656    \n",
      "_________________________________________________________________\n",
      "activation_7 (Activation)    (None, 512)               0         \n",
      "_________________________________________________________________\n",
      "dense_2 (Dense)              (None, 10)                5130      \n",
      "_________________________________________________________________\n",
      "activation_8 (Activation)    (None, 10)                0         \n",
      "=================================================================\n",
      "Total params: 554,794\n",
      "Trainable params: 554,794\n",
      "Non-trainable params: 0\n",
      "_________________________________________________________________\n"
     ]
    }
   ],
   "source": [
    "model.summary()"
   ]
  },
  {
   "cell_type": "code",
   "execution_count": 28,
   "metadata": {
    "scrolled": true
   },
   "outputs": [
    {
     "name": "stderr",
     "output_type": "stream",
     "text": [
      "W1227 11:28:30.048339 140122733987648 deprecation.py:323] From /home/jayateertha/anaconda3/lib/python3.7/site-packages/tensorflow/python/ops/math_grad.py:1250: add_dispatch_support.<locals>.wrapper (from tensorflow.python.ops.array_ops) is deprecated and will be removed in a future version.\n",
      "Instructions for updating:\n",
      "Use tf.where in 2.0, which has the same broadcast rule as np.where\n"
     ]
    },
    {
     "name": "stdout",
     "output_type": "stream",
     "text": [
      "Train on 50000 samples, validate on 10000 samples\n",
      "Epoch 1/30\n",
      "50000/50000 [==============================] - 142s 3ms/step - loss: 1.6186 - acc: 0.3950 - val_loss: 1.2638 - val_acc: 0.5504\n",
      "Epoch 2/30\n",
      "50000/50000 [==============================] - 140s 3ms/step - loss: 1.1742 - acc: 0.5795 - val_loss: 1.0186 - val_acc: 0.6351\n",
      "Epoch 3/30\n",
      "50000/50000 [==============================] - 140s 3ms/step - loss: 0.9935 - acc: 0.6514 - val_loss: 0.9142 - val_acc: 0.6841\n",
      "Epoch 4/30\n",
      "50000/50000 [==============================] - 134s 3ms/step - loss: 0.8751 - acc: 0.6935 - val_loss: 0.8257 - val_acc: 0.7167\n",
      "Epoch 5/30\n",
      "50000/50000 [==============================] - 126s 3ms/step - loss: 0.7933 - acc: 0.7228 - val_loss: 0.8099 - val_acc: 0.7214\n",
      "Epoch 6/30\n",
      "50000/50000 [==============================] - 122s 2ms/step - loss: 0.7272 - acc: 0.7449 - val_loss: 0.7508 - val_acc: 0.7402\n",
      "Epoch 7/30\n",
      "50000/50000 [==============================] - 136s 3ms/step - loss: 0.6845 - acc: 0.7629 - val_loss: 0.7264 - val_acc: 0.7477\n",
      "Epoch 8/30\n",
      "50000/50000 [==============================] - 128s 3ms/step - loss: 0.6434 - acc: 0.7757 - val_loss: 0.7182 - val_acc: 0.7563\n",
      "Epoch 9/30\n",
      "50000/50000 [==============================] - 125s 2ms/step - loss: 0.6068 - acc: 0.7885 - val_loss: 0.6800 - val_acc: 0.7660\n",
      "Epoch 10/30\n",
      "50000/50000 [==============================] - 131s 3ms/step - loss: 0.5830 - acc: 0.7968 - val_loss: 0.7040 - val_acc: 0.7663\n",
      "Epoch 11/30\n",
      "50000/50000 [==============================] - 124s 2ms/step - loss: 0.5567 - acc: 0.8053 - val_loss: 0.7186 - val_acc: 0.7639\n",
      "Epoch 12/30\n",
      "50000/50000 [==============================] - 146s 3ms/step - loss: 0.5322 - acc: 0.8141 - val_loss: 0.6988 - val_acc: 0.7668\n",
      "Epoch 13/30\n",
      "50000/50000 [==============================] - 166s 3ms/step - loss: 0.5156 - acc: 0.8198 - val_loss: 0.6883 - val_acc: 0.7725\n",
      "Epoch 14/30\n",
      "50000/50000 [==============================] - 125s 2ms/step - loss: 0.4926 - acc: 0.8265 - val_loss: 0.6965 - val_acc: 0.7712\n",
      "Epoch 15/30\n",
      "50000/50000 [==============================] - 124s 2ms/step - loss: 0.4743 - acc: 0.8338 - val_loss: 0.7136 - val_acc: 0.7647\n",
      "Epoch 16/30\n",
      "50000/50000 [==============================] - 126s 3ms/step - loss: 0.4655 - acc: 0.8389 - val_loss: 0.7085 - val_acc: 0.7713\n",
      "Epoch 17/30\n",
      "50000/50000 [==============================] - 123s 2ms/step - loss: 0.4495 - acc: 0.8429 - val_loss: 0.6810 - val_acc: 0.7770\n",
      "Epoch 18/30\n",
      "50000/50000 [==============================] - 121s 2ms/step - loss: 0.4370 - acc: 0.8471 - val_loss: 0.6904 - val_acc: 0.7746\n",
      "Epoch 19/30\n",
      "50000/50000 [==============================] - 121s 2ms/step - loss: 0.4237 - acc: 0.8519 - val_loss: 0.6806 - val_acc: 0.7771\n",
      "Epoch 20/30\n",
      "50000/50000 [==============================] - 121s 2ms/step - loss: 0.4138 - acc: 0.8555 - val_loss: 0.7138 - val_acc: 0.7696\n",
      "Epoch 21/30\n",
      "50000/50000 [==============================] - 123s 2ms/step - loss: 0.4040 - acc: 0.8586 - val_loss: 0.7145 - val_acc: 0.7754\n",
      "Epoch 22/30\n",
      "50000/50000 [==============================] - 122s 2ms/step - loss: 0.3894 - acc: 0.8653 - val_loss: 0.6999 - val_acc: 0.7808\n",
      "Epoch 23/30\n",
      "50000/50000 [==============================] - 125s 3ms/step - loss: 0.3855 - acc: 0.8660 - val_loss: 0.7376 - val_acc: 0.7717\n",
      "Epoch 24/30\n",
      "50000/50000 [==============================] - 129s 3ms/step - loss: 0.3691 - acc: 0.8712 - val_loss: 0.7212 - val_acc: 0.7820\n",
      "Epoch 25/30\n",
      "50000/50000 [==============================] - 124s 2ms/step - loss: 0.3682 - acc: 0.8721 - val_loss: 0.7150 - val_acc: 0.7742\n",
      "Epoch 26/30\n",
      "50000/50000 [==============================] - 121s 2ms/step - loss: 0.3654 - acc: 0.8742 - val_loss: 0.7476 - val_acc: 0.7788\n",
      "Epoch 27/30\n",
      "50000/50000 [==============================] - 122s 2ms/step - loss: 0.3518 - acc: 0.8786 - val_loss: 0.7009 - val_acc: 0.7789\n",
      "Epoch 28/30\n",
      "50000/50000 [==============================] - 130s 3ms/step - loss: 0.3525 - acc: 0.8787 - val_loss: 0.7657 - val_acc: 0.7720\n",
      "Epoch 29/30\n",
      "50000/50000 [==============================] - 128s 3ms/step - loss: 0.3457 - acc: 0.8809 - val_loss: 0.7781 - val_acc: 0.7683\n",
      "Epoch 30/30\n",
      "50000/50000 [==============================] - 136s 3ms/step - loss: 0.3344 - acc: 0.8834 - val_loss: 0.7456 - val_acc: 0.7780\n"
     ]
    }
   ],
   "source": [
    "result = model.fit(x_train, y_train,batch_size=32,epochs=30, validation_data=(x_test,y_test))\n"
   ]
  },
  {
   "cell_type": "code",
   "execution_count": 32,
   "metadata": {},
   "outputs": [],
   "source": [
    "x = np.arange(1,30)\n",
    "y1 = result.history['acc']\n",
    "y2 = result.history['val_acc']\n",
    "y3 = result.history['loss']\n",
    "y4 = result.history['val_loss']"
   ]
  },
  {
   "cell_type": "code",
   "execution_count": 33,
   "metadata": {},
   "outputs": [
    {
     "data": {
      "image/png": "[encoded data removed]",
      "text/plain": [
       "<Figure size 432x288 with 1 Axes>"
      ]
     },
     "metadata": {
      "needs_background": "light"
     },
     "output_type": "display_data"
    }
   ],
   "source": [
    "import matplotlib.pyplot as plt\n",
    "plt.plot(y1)\n",
    "plt.plot(y2)\n",
    "plt.title('model accuracy')\n",
    "plt.ylabel('accuracy')\n",
    "plt.xlabel('epoch')\n",
    "plt.legend(['train', 'test'], loc='upper left')\n",
    "plt.show()"
   ]
  },
  {
   "cell_type": "code",
   "execution_count": 34,
   "metadata": {},
   "outputs": [
    {
     "data": {
      "image/png": "[encoded data removed]",
      "text/plain": [
       "<Figure size 432x288 with 1 Axes>"
      ]
     },
     "metadata": {
      "needs_background": "light"
     },
     "output_type": "display_data"
    }
   ],
   "source": [
    "plt.plot(y3)\n",
    "plt.plot(y4)\n",
    "plt.title('model loss')\n",
    "plt.ylabel('accuracy')\n",
    "plt.xlabel('epoch')\n",
    "plt.legend(['train', 'test'], loc='upper left')\n",
    "plt.show()"
   ]
  },
  {
   "cell_type": "code",
   "execution_count": 35,
   "metadata": {},
   "outputs": [
    {
     "name": "stdout",
     "output_type": "stream",
     "text": [
      "10000/10000 [==============================] - 10s 963us/step\n",
      "Test loss: 0.7455772275447845\n",
      "Test accuracy: 0.778\n"
     ]
    }
   ],
   "source": [
    "scores = model.evaluate(x_test, y_test, verbose=1)\n",
    "print('Test loss:', scores[0])\n",
    "print('Test accuracy:', scores[1])"
   ]
  },
  {
   "cell_type": "code",
   "execution_count": null,
   "metadata": {},
   "outputs": [],
   "source": [
    "##test accuracy is about 78%"
   ]
  }
 ],
 "metadata": {
  "kernelspec": {
   "display_name": "Python 3",
   "language": "python",
   "name": "python3"
  },
  "language_info": {
   "codemirror_mode": {
    "name": "ipython",
    "version": 3
   },
   "file_extension": ".py",
   "mimetype": "text/x-python",
   "name": "python",
   "nbconvert_exporter": "python",
   "pygments_lexer": "ipython3",
   "version": "3.7.4"
  }
 },
 "nbformat": 4,
 "nbformat_minor": 2
}
